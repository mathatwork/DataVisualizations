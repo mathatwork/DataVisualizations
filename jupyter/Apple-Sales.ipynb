{
 "cells": [
  {
   "cell_type": "markdown",
   "metadata": {},
   "source": [
    "# Matplotlib Line Charts: Lime Sales"
   ]
  },
  {
   "cell_type": "markdown",
   "metadata": {},
   "source": [
    "You are a grocery store owner interested in understanding apple sales at your store.  You would like to compare the sales of each apple species by month.  Every month for a year you count the total number of apples sold for each species purchased at your store.  \n",
    "<br><br>\n",
    "Here is your data:\n",
    "<br><br>\n",
    "*red_delicious* = [92.0, 109.0, 124.0, 70.0, 101.0, 79.0, 106.0, 101.0, 103.0, 90.0, 102.0, 106.0] \n",
    "<br>\n",
    "*fujis* = [67.0, 51.0, 57.0, 54.0, 83.0, 90.0, 52.0, 63.0, 51.0, 44.0, 64.0, 78.0] \n",
    "<br>\n",
    "*crispins* = [75.0, 75.0, 76.0, 71.0, 74.0, 77.0, 69.0, 80.0, 63.0, 69.0, 73.0, 82.0] \n",
    "<br>\n",
    "*months* = [\"Jan\", \"Feb\", \"Mar\", \"Apr\", \"May\", \"Jun\", \"Jul\", \"Aug\", \"Sep\", \"Oct\", \"Nov\", \"Dec\"]"
   ]
  },
  {
   "cell_type": "markdown",
   "metadata": {},
   "source": [
    "**Question 1)** In the next cell, import the appropriate Python package."
   ]
  },
  {
   "cell_type": "code",
   "execution_count": null,
   "metadata": {
    "collapsed": true
   },
   "outputs": [],
   "source": []
  },
  {
   "cell_type": "markdown",
   "metadata": {},
   "source": [
    "**Question 2)** In the next cell, prepare your data lists for charting."
   ]
  },
  {
   "cell_type": "code",
   "execution_count": null,
   "metadata": {
    "collapsed": true
   },
   "outputs": [],
   "source": []
  },
  {
   "cell_type": "markdown",
   "metadata": {},
   "source": [
    "**Question 3)** Plot all 3 apple species on the same chart.  Be sure to give your line chart an appropriate chart title, *x* and *y*-axis labels and a legend."
   ]
  },
  {
   "cell_type": "code",
   "execution_count": null,
   "metadata": {
    "collapsed": true
   },
   "outputs": [],
   "source": []
  },
  {
   "cell_type": "markdown",
   "metadata": {},
   "source": [
    "**Question 4)** According to your line chart, which month or months were more Crispins sold than any other apple species at your store?"
   ]
  },
  {
   "cell_type": "code",
   "execution_count": null,
   "metadata": {
    "collapsed": true
   },
   "outputs": [],
   "source": []
  },
  {
   "cell_type": "markdown",
   "metadata": {},
   "source": [
    "**Question 5)** According to your line chart, which species sold worst more often than any other species?"
   ]
  },
  {
   "cell_type": "code",
   "execution_count": null,
   "metadata": {
    "collapsed": true
   },
   "outputs": [],
   "source": []
  },
  {
   "cell_type": "markdown",
   "metadata": {},
   "source": [
    "**Question 6)** Use your chart to determine peak apple sale months for each species."
   ]
  },
  {
   "cell_type": "code",
   "execution_count": null,
   "metadata": {
    "collapsed": true
   },
   "outputs": [],
   "source": []
  },
  {
   "cell_type": "markdown",
   "metadata": {},
   "source": [
    "Excellent.  You were able to produce a very nice visual representing apple sales at your store for each species by month.  This visual made it easier to see whether there were any patterns or trends in your data.  \n",
    "<br>\n",
    "You were also able to uncover in your analysis which species of apples sold worst more often than any other species.  This could give insight on which species to keep in your inventory.  Most often “worst” selling species could be costing you a lot of money due to waste.  Therefore, you should consider removing it from the inventory all together.  \n",
    "<br>\n",
    "Understanding peak apple sales for each month would also give insight on how to stock each species.  Peak apple sale months for a particular species would indicate that these are the months this apple species is in demand.  Therefore, it is a good idea to ensure this one is available on your grocery store’s shelves during these months."
   ]
  }
 ],
 "metadata": {
  "kernelspec": {
   "display_name": "Python 2",
   "language": "python",
   "name": "python2"
  },
  "language_info": {
   "codemirror_mode": {
    "name": "ipython",
    "version": 2
   },
   "file_extension": ".py",
   "mimetype": "text/x-python",
   "name": "python",
   "nbconvert_exporter": "python",
   "pygments_lexer": "ipython2",
   "version": "2.7.13"
  }
 },
 "nbformat": 4,
 "nbformat_minor": 2
}
