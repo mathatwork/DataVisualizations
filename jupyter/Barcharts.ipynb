{
 "cells": [
  {
   "cell_type": "markdown",
   "metadata": {},
   "source": [
    "# Matplotlib Bar Charts"
   ]
  },
  {
   "cell_type": "markdown",
   "metadata": {},
   "source": [
    "Bar graphs are used to compare things between different groups.  The groups are often NOT represented numerically, though they can be."
   ]
  },
  {
   "cell_type": "markdown",
   "metadata": {},
   "source": [
    "Let's create a bar chart representing the total number of drinks sold by category (or group) using:\n",
    "<br>\n",
    "*drinks* = [\"cappuccino\", \"latte\", \"chai\", \"americano\", \"mocha\", \"espresso\"]\n",
    "<br>\n",
    "*sales* =  [92, 75, 51, 68, 52, 24]"
   ]
  },
  {
   "cell_type": "code",
   "execution_count": 2,
   "metadata": {
    "collapsed": false
   },
   "outputs": [
    {
     "data": {
      "image/png": "[encoded data removed]",
      "text/plain": [
       "<matplotlib.figure.Figure at 0x10b1be080>"
      ]
     },
     "metadata": {},
     "output_type": "display_data"
    }
   ],
   "source": [
    "import matplotlib.pyplot as plt\n",
    "drinks = [\"cappuccino\", \"latte\", \"chai\", \"americano\", \"mocha\", \"espresso\"]\n",
    "sales =  [92, 75, 51, 68, 52, 24]\n",
    "plt.bar(range(len(drinks)), sales)\n",
    "plt.show()"
   ]
  },
  {
   "cell_type": "markdown",
   "metadata": {},
   "source": [
    "Similarly as with line charts, the data for a bar chart must also be numerical.  We saw in the last notebook how to fix this.  That is, by appling both the **len( )** and **range( )** functions.  This gave us a very nice chart (shown above).  However, it would be nice to show the drink categories on the x-axis instead of just numbers."
   ]
  },
  {
   "cell_type": "markdown",
   "metadata": {},
   "source": [
    "To show the categories on the bar chart along the x-axis, we call a rather complicated list of functions:\n",
    "<br>\n",
    "ax = plt.subplot( )\n",
    "<br>\n",
    "ax.set_xticks(range(len(drinks))\n",
    "<br>\n",
    "ax.set_xticklabels(drinks)"
   ]
  },
  {
   "cell_type": "code",
   "execution_count": 4,
   "metadata": {
    "collapsed": false
   },
   "outputs": [
    {
     "data": {
      "image/png": "[encoded data removed]",
      "text/plain": [
       "<matplotlib.figure.Figure at 0x111a49b38>"
      ]
     },
     "metadata": {},
     "output_type": "display_data"
    }
   ],
   "source": [
    "drinks = [\"cappuccino\", \"latte\", \"chai\", \"americano\", \"mocha\", \"espresso\"]\n",
    "sales =  [92, 75, 51, 68, 52, 24]\n",
    "plt.bar(range(len(drinks)), sales)\n",
    "ax = plt.subplot()\n",
    "ax.set_xticks(range(len(drinks)))\n",
    "ax.set_xticklabels(drinks)\n",
    "plt.show()"
   ]
  },
  {
   "cell_type": "markdown",
   "metadata": {},
   "source": [
    "Do not concern yourself with why this works, just understand that it does. You must call all 3 functions before the chart is rendered for this to happen.\n",
    "- **ax.plt.subplot( )** with no arguments passed\n",
    "- **ax.set_xticks( )** that is passed a numerical range of values the same size as the length of your label list\n",
    "- **ax.set_xticklabels( )** that is passed your desired x-axis labels"
   ]
  },
  {
   "cell_type": "markdown",
   "metadata": {},
   "source": [
    "Now we can add some features to our plot."
   ]
  },
  {
   "cell_type": "code",
   "execution_count": 8,
   "metadata": {
    "collapsed": false
   },
   "outputs": [
    {
     "data": {
      "image/png": "[encoded data removed]",
      "text/plain": [
       "<matplotlib.figure.Figure at 0x111cff2e8>"
      ]
     },
     "metadata": {},
     "output_type": "display_data"
    }
   ],
   "source": [
    "drinks = [\"cappuccino\", \"latte\", \"chai\", \"americano\", \"mocha\", \"espresso\"]\n",
    "sales =  [92, 75, 51, 68, 52, 24]\n",
    "plt.bar(range(len(drinks)), sales)\n",
    "ax = plt.subplot()\n",
    "ax.set_xticks(range(len(drinks)))\n",
    "ax.set_xticklabels(drinks)\n",
    "plt.title(\"Number of Drinks Sold by Category\")\n",
    "plt.xlabel(\"Drink Category\")\n",
    "plt.ylabel(\"Number Sold\")\n",
    "plt.legend([\"Hot Beverages\"])\n",
    "plt.show()"
   ]
  },
  {
   "cell_type": "markdown",
   "metadata": {},
   "source": [
    "### Exercise "
   ]
  },
  {
   "cell_type": "markdown",
   "metadata": {},
   "source": [
    "Create a bar chart representing revenue for each month last year using:\n",
    "<br>\n",
    "*months* = [\"Jan\", \"Feb\", \"Mar\", \"Apr\", \"May\", \"Jun\", \"Jul\", \"Aug\", \"Sep\", \"Oct\", \"Nov\", \"Dec\"]\n",
    "<br>\n",
    "*revenue* = [15000, 13000, 16500, 18500, 20500, 20500, 21000, 21000, 20000, 18500, 17000, 15500]\n",
    "<br><br>\n",
    "Be sure to show the month names on your *x*-axis.  Also add features for a title, *x* and *y*-axis labels and a legend."
   ]
  },
  {
   "cell_type": "code",
   "execution_count": null,
   "metadata": {
    "collapsed": true
   },
   "outputs": [],
   "source": []
  },
  {
   "cell_type": "markdown",
   "metadata": {},
   "source": [
    "# Side By Side Bar Charts"
   ]
  },
  {
   "cell_type": "markdown",
   "metadata": {},
   "source": [
    "Use a side by side bar chart to compare more than one group of data.  This involves a very complicated list of values.  For each data group, we need to specify:\n",
    "<br>\n",
    "- Which data group number we are plotting, `n`\n",
    "- The total number of groups we are plotting on one chart, `t`\n",
    "- How many categories (or bars) for each group (i.e., the length of your categories list), `d`\n",
    "- The width you want each bar.  Just always use `w = 0.8`\n",
    "<br><br>\n",
    "These values will be used to create the x-values for each of our groups:\n",
    "<br>\n",
    "`x_values = [t * element + w * n for element in range(d)]`"
   ]
  },
  {
   "cell_type": "markdown",
   "metadata": {},
   "source": [
    "Our *x_values* here are defined using list comprehension.  Recall from a previous lesson that list comprehension is a more efficient way to create lists based on another list.  Here, we are taking each element in **range(d)** and then creating a new list of values, `t * element + w * n`."
   ]
  },
  {
   "cell_type": "markdown",
   "metadata": {},
   "source": [
    "This is how we would define our *x*-values for the Hot Beverages bar chart above if we were to add another group of data, Cold Beverages using:\n",
    "<br><br>\n",
    "*cold_drinks* = [\"tea\", \"soda\", \"lemonade\", \"water\", \"gatorade\", \"beer\"]\n",
    "<br>\n",
    "*cold_sales* =  [106, 39, 24, 131, 19, 87]"
   ]
  },
  {
   "cell_type": "code",
   "execution_count": 9,
   "metadata": {
    "collapsed": true
   },
   "outputs": [],
   "source": [
    "hot_drinks = [\"cappuccino\", \"latte\", \"chai\", \"americano\", \"mocha\", \"espresso\"]\n",
    "hot_sales =  [92, 75, 51, 68, 52, 24]\n",
    "n = 1\n",
    "t = 2\n",
    "d = 6\n",
    "w = 0.8\n",
    "x_hot = [t*element + w*n for element in range(d)]\n",
    "cold_drinks = [\"tea\", \"soda\", \"lemonade\", \"water\", \"gatorade\", \"beer\"] \n",
    "cold_sales = [106, 39, 24, 131, 19, 87]\n",
    "n = 2\n",
    "t = 2\n",
    "d = 6\n",
    "w = 0.8\n",
    "x_cold = [t*element + w*n for element in range(d)]"
   ]
  },
  {
   "cell_type": "markdown",
   "metadata": {},
   "source": [
    "This is slightly complicated, but for each group of categories we had to create an *x_values* list using list comprehension.  Notice that since cold_drinks is the 2nd group we are plotting on our chart, *n* = 2 for this case.  Now let's plot both groups using a side-by-side bar chart."
   ]
  },
  {
   "cell_type": "code",
   "execution_count": 11,
   "metadata": {
    "collapsed": false
   },
   "outputs": [
    {
     "data": {
      "image/png": "[encoded data removed]",
      "text/plain": [
       "<matplotlib.figure.Figure at 0x111cebb00>"
      ]
     },
     "metadata": {},
     "output_type": "display_data"
    }
   ],
   "source": [
    "plt.bar(x_hot, hot_sales)\n",
    "plt.bar(x_cold, cold_sales)\n",
    "plt.show()"
   ]
  },
  {
   "cell_type": "markdown",
   "metadata": {},
   "source": [
    "For simplicity, we will not show the category names on the *x*-axis, but we will add features."
   ]
  },
  {
   "cell_type": "code",
   "execution_count": 12,
   "metadata": {
    "collapsed": false
   },
   "outputs": [
    {
     "data": {
      "image/png": "[encoded data removed]",
      "text/plain": [
       "<matplotlib.figure.Figure at 0x111d3d828>"
      ]
     },
     "metadata": {},
     "output_type": "display_data"
    }
   ],
   "source": [
    "plt.bar(x_hot, hot_sales)\n",
    "plt.bar(x_cold, cold_sales)\n",
    "plt.title(\"Number of Hot vs Cold Drinks Sold by Category\")\n",
    "plt.xlabel(\"Drink Category\")\n",
    "plt.ylabel(\"Number Sold\")\n",
    "plt.legend([\"Hot Beverages\",\"Cold Beverages\"])\n",
    "plt.show()"
   ]
  },
  {
   "cell_type": "markdown",
   "metadata": {},
   "source": [
    "### Exercise"
   ]
  },
  {
   "cell_type": "markdown",
   "metadata": {},
   "source": [
    "Create a side by side bar chart representing revenue for each month last year for Company A vs Company B using: \n",
    "<br><br>\n",
    "*months* = [\"Jan\", \"Feb\", \"Mar\", \"Apr\", \"May\", \"Jun\", \"Jul\", \"Aug\", \"Sep\", \"Oct\", \"Nov\", \"Dec\"] \n",
    "<br>\n",
    "*revenue_A* = [15000, 13000, 16500, 18500, 20500, 20500, 21000, 21000, 20000, 18500, 17000, 15500] \n",
    "<br>\n",
    "*revenue_B* = [8000, 10000, 12500, 24500, 27500, 23000, 20000, 23000, 21000, 16000, 16000, 15500] \n",
    "<br><br>\n",
    "Be sure to add features for a title, *x* and *y*-axis labels and a legend."
   ]
  },
  {
   "cell_type": "code",
   "execution_count": null,
   "metadata": {
    "collapsed": true
   },
   "outputs": [],
   "source": []
  }
 ],
 "metadata": {
  "kernelspec": {
   "display_name": "Python 2",
   "language": "python",
   "name": "python2"
  },
  "language_info": {
   "codemirror_mode": {
    "name": "ipython",
    "version": 2
   },
   "file_extension": ".py",
   "mimetype": "text/x-python",
   "name": "python",
   "nbconvert_exporter": "python",
   "pygments_lexer": "ipython2",
   "version": "2.7.13"
  }
 },
 "nbformat": 4,
 "nbformat_minor": 2
}
