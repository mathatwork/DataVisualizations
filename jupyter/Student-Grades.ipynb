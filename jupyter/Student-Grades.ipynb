{
 "cells": [
  {
   "cell_type": "markdown",
   "metadata": {},
   "source": [
    "# Matplotlib Bar and Pie Charts: Student Grades"
   ]
  },
  {
   "cell_type": "markdown",
   "metadata": {},
   "source": [
    "You are a teacher in a local private school who is interested in analyzing final grades of your classes in order to make improvements in instruction for next year.  \n",
    "<br>\n",
    "Here are the final grades of students in both of your classes: \n",
    "<br>\n",
    "class_A = ['C', 'A', 'B', 'B', 'F', 'C', 'A', 'B', 'D', 'C', 'D']\n",
    "<br>\n",
    "class_B = ['D', 'C', 'C', 'A', 'B', 'F', 'A', 'A', 'F', 'B', 'A']"
   ]
  },
  {
   "cell_type": "markdown",
   "metadata": {},
   "source": [
    "**Question 1)** Create a side by side bar chart representing total counts of each grade letter for class_A vs class_B.\n",
    "- In the next cell, create your *x_values* lists.  \n",
    "- Then plot your graph in the cell below that one. \n",
    "<br><br>\n",
    "Be sure to add features for a title, *x* and *y*-axis labels and a legend."
   ]
  },
  {
   "cell_type": "markdown",
   "metadata": {},
   "source": [
    "**HINT:** Use *grade_letter* = ['A','B','C','D','F'].  Then count up the frequencies of grade letters for each class."
   ]
  },
  {
   "cell_type": "code",
   "execution_count": 3,
   "metadata": {
    "collapsed": true
   },
   "outputs": [],
   "source": []
  },
  {
   "cell_type": "code",
   "execution_count": null,
   "metadata": {
    "collapsed": true
   },
   "outputs": [],
   "source": []
  },
  {
   "cell_type": "markdown",
   "metadata": {},
   "source": [
    "**Question 2)** Which class had the most students passing with a C or better?"
   ]
  },
  {
   "cell_type": "code",
   "execution_count": null,
   "metadata": {
    "collapsed": true
   },
   "outputs": [],
   "source": []
  },
  {
   "cell_type": "markdown",
   "metadata": {},
   "source": [
    "**Question 3)** Create a pie chart representing the COMBINED frequency of letter grades for each grade letter type.  Create slice labels *grade_freq* and include a chart title and a legend using *grade_letter*."
   ]
  },
  {
   "cell_type": "code",
   "execution_count": null,
   "metadata": {
    "collapsed": true
   },
   "outputs": [],
   "source": []
  },
  {
   "cell_type": "markdown",
   "metadata": {},
   "source": [
    "**Question 4)** Which letter grade had the fewest number of students making?"
   ]
  },
  {
   "cell_type": "code",
   "execution_count": null,
   "metadata": {
    "collapsed": true
   },
   "outputs": [],
   "source": []
  },
  {
   "cell_type": "markdown",
   "metadata": {},
   "source": [
    "**Question 5)** Did more students pass or fail your classes?"
   ]
  },
  {
   "cell_type": "code",
   "execution_count": null,
   "metadata": {
    "collapsed": true
   },
   "outputs": [],
   "source": []
  },
  {
   "cell_type": "markdown",
   "metadata": {},
   "source": [
    "Nice work.  You were able to create some very nice visuals of student final grades for your classes.  The side-by-side bar chart could be used to see how class_A compared to class_B.  For example, class_B had more A’s and more F’s than class_A.  This indicates that class_B had more of a mixture of very high performing and very low performing students than class_A.  \n",
    "<br>\n",
    "From the pie chart, you could see the frequency of each letter grade over both of your classes combined.  For example, you could see that A’s and B’s made up exactly 50% of your total grade distribution.  This is a good indication that most of your students did well in your classes."
   ]
  }
 ],
 "metadata": {
  "kernelspec": {
   "display_name": "Python 2",
   "language": "python",
   "name": "python2"
  },
  "language_info": {
   "codemirror_mode": {
    "name": "ipython",
    "version": 2
   },
   "file_extension": ".py",
   "mimetype": "text/x-python",
   "name": "python",
   "nbconvert_exporter": "python",
   "pygments_lexer": "ipython2",
   "version": "2.7.13"
  }
 },
 "nbformat": 4,
 "nbformat_minor": 2
}
