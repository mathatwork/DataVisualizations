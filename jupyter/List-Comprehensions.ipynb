{
 "cells": [
  {
   "cell_type": "markdown",
   "metadata": {},
   "source": [
    "# What is List Comprehension?"
   ]
  },
  {
   "cell_type": "markdown",
   "metadata": {},
   "source": [
    "In the Introduction to Python lesson from the Data Science workshop, we learned how to perform arithmetic on numbers in Python.  We can also perform arithmetic on lists. \n",
    "<br><br>\n",
    "For example, suppose we had the following list of temperatures:"
   ]
  },
  {
   "cell_type": "code",
   "execution_count": 6,
   "metadata": {
    "collapsed": false
   },
   "outputs": [
    {
     "name": "stdout",
     "output_type": "stream",
     "text": [
      "[-4, 28, 25, -7, 1, 17, 11, 32]\n"
     ]
    }
   ],
   "source": [
    "temps = [-4, 28, 25, -7, 1, 17, 11, 32]\n",
    "print(temps)"
   ]
  },
  {
   "cell_type": "markdown",
   "metadata": {},
   "source": [
    "Let's say this list of temperatures, in Celsius, represents the results of a science experiment.  What if after we recorded these results we found out our lab thermometer was reporting temperatures 10 DEGREES LOWER than the actual temperature?  How would we fix our *temps* list? \n",
    "<br><br>\n",
    "We could do this by hand or add 10 degrees to our original list, element by element."
   ]
  },
  {
   "cell_type": "code",
   "execution_count": 7,
   "metadata": {
    "collapsed": false
   },
   "outputs": [
    {
     "name": "stdout",
     "output_type": "stream",
     "text": [
      "[6, 38, 35, 3, 11, 27, 21, 42]\n"
     ]
    }
   ],
   "source": [
    "new_temps = [-4+10, 28+10, 25+10, -7+10, 1+10, 17+10, 11+10, 32+10]\n",
    "print(new_temps)"
   ]
  },
  {
   "cell_type": "markdown",
   "metadata": {},
   "source": [
    "But this method is very time consuming.  What if our list was thousands of temperatures long?  This method of adding 10 to each item in the *temps* list would not be very practical.  It would be better to perform a function on ALL values of a list at once.  We can do this using list comprehensions in Python."
   ]
  },
  {
   "cell_type": "markdown",
   "metadata": {},
   "source": [
    "**List comprehension** is an elegant way to define and create lists based on existing lists.  Let's examine the syntax to perform a list comprehension on *temps* to yield the same output as new_temps above."
   ]
  },
  {
   "cell_type": "code",
   "execution_count": 9,
   "metadata": {
    "collapsed": false
   },
   "outputs": [
    {
     "name": "stdout",
     "output_type": "stream",
     "text": [
      "[6, 38, 35, 3, 11, 27, 21, 42]\n"
     ]
    }
   ],
   "source": [
    "new_temps = [temp + 10 for temp in temps]\n",
    "print(new_temps)"
   ]
  },
  {
   "cell_type": "markdown",
   "metadata": {},
   "source": [
    "This code:\n",
    "- takes an element in the *temps* list\n",
    "- names that element **temp**\n",
    "- stores the value of **temp + 10** in a new list called **new_temps**\n",
    "- repeats the steps above for all elements in the *temps* list"
   ]
  },
  {
   "cell_type": "markdown",
   "metadata": {},
   "source": [
    "### Exercise"
   ]
  },
  {
   "cell_type": "markdown",
   "metadata": {},
   "source": [
    "In the next cell, create a new list called **new_heights** from the list **heights = [84.2, 78.8, 64.4, 87.8]** that is the result of DIVIDING each item in heights BY 12."
   ]
  },
  {
   "cell_type": "code",
   "execution_count": null,
   "metadata": {
    "collapsed": true
   },
   "outputs": [],
   "source": []
  },
  {
   "cell_type": "markdown",
   "metadata": {},
   "source": [
    "# List Comprehensions for Conversions"
   ]
  },
  {
   "cell_type": "markdown",
   "metadata": {},
   "source": [
    "You probably guessed that in the exercise above, *new_heights* is the list of heights converted to feet. This is a very useful application of list comprehensions.  We can do more complicated mathematical operations like multiplication and division in our list comprehensions. \n",
    "<br><br>\n",
    "For example, this is how we would convert the temps list to Fahrenheit:"
   ]
  },
  {
   "cell_type": "code",
   "execution_count": 10,
   "metadata": {
    "collapsed": false
   },
   "outputs": [
    {
     "name": "stdout",
     "output_type": "stream",
     "text": [
      "[24.8, 82.4, 77.0, 19.4, 33.8, 62.6, 51.8, 89.6]\n"
     ]
    }
   ],
   "source": [
    "temps_F = [9.0/5.0 * temp + 32 for temp in temps]\n",
    "print(temps_F)"
   ]
  },
  {
   "cell_type": "markdown",
   "metadata": {},
   "source": [
    "This code:\n",
    "- takes an element in the *temps* list\n",
    "- names that element **temp**\n",
    "- stores the value of **9/5 * temp + 32** in a new list called **temps_F**\n",
    "- repeats the steps above for all elements in the *temps* list"
   ]
  },
  {
   "cell_type": "markdown",
   "metadata": {},
   "source": [
    "### Exercise"
   ]
  },
  {
   "cell_type": "markdown",
   "metadata": {},
   "source": [
    "Given a list of inputs, x = [-3, 2, 0, -4, 7], convert them to a list of outputs defined by the equation **y = 1/2x + 9**"
   ]
  },
  {
   "cell_type": "code",
   "execution_count": null,
   "metadata": {
    "collapsed": true
   },
   "outputs": [],
   "source": []
  },
  {
   "cell_type": "markdown",
   "metadata": {},
   "source": [
    "Given a list of radiuses, r = [1.2, 3.2, 5.2, 7.2, 9.2], convert them to a list of areas of the circle defined by each radius.\n",
    "<br><br>\n",
    "Recall: **pi=3.14** and **AREA = pi TIMES r SQUARED**."
   ]
  },
  {
   "cell_type": "code",
   "execution_count": null,
   "metadata": {
    "collapsed": true
   },
   "outputs": [],
   "source": []
  },
  {
   "cell_type": "markdown",
   "metadata": {},
   "source": [
    "# List Comprehensions of Two Lists"
   ]
  },
  {
   "cell_type": "markdown",
   "metadata": {},
   "source": [
    "It may be necessary to perform list comprehensions on 2 lists.  For example, what if we wanted to compute a list of midpoints using list comprehension of the following 2 lists?\n",
    "<br>\n",
    "x1 = [1, 2, 3]\n",
    "<br>\n",
    "x2 = [4, 6, 8]\n",
    "<br><br>\n",
    "Each midpoint would be calculated as (x1 + x2)/2.0.  This calculation requires we go through each item in BOTH lists, x1 and x2.  To be able to go through 2 lists in one list comprehension, we need to use the builtin Python function **zip( )**.  The **zip( )** function puts the elements of the 2 lists together into one list."
   ]
  },
  {
   "cell_type": "code",
   "execution_count": 13,
   "metadata": {
    "collapsed": false
   },
   "outputs": [
    {
     "data": {
      "text/plain": [
       "<zip at 0x112062348>"
      ]
     },
     "execution_count": 13,
     "metadata": {},
     "output_type": "execute_result"
    }
   ],
   "source": [
    "x1 = [1,2,3]\n",
    "x2 = [4,6,8]\n",
    "zip(x1,x2)"
   ]
  },
  {
   "cell_type": "markdown",
   "metadata": {},
   "source": [
    "Though there is no output generated, **zip(x1, x2)** yields:\n",
    "<br>\n",
    "[(1,4), (2,6), (3,8)]\n",
    "<br><br>\n",
    "As you can see, we are cycling through both lists at the same time. Let's compute the list of midpoints:"
   ]
  },
  {
   "cell_type": "code",
   "execution_count": 17,
   "metadata": {
    "collapsed": false
   },
   "outputs": [
    {
     "name": "stdout",
     "output_type": "stream",
     "text": [
      "[2.5, 4.0, 5.5]\n"
     ]
    }
   ],
   "source": [
    "x_midpoints = [(list1 + list2)/2.0 for (list1, list2) in zip(x1, x2)]\n",
    "print(x_midpoints)"
   ]
  },
  {
   "cell_type": "markdown",
   "metadata": {},
   "source": [
    "This code:\n",
    "- zip( ) takes an element from *x1* and an element from *x2*\n",
    "- creates a tuple from each element **(list1, list2)**\n",
    "- stores the value of **(list1 + list2) / 2.0** in a new list called **x_midpoints**\n",
    "- repeats the steps above for all elements in both *x1* and *x2*"
   ]
  },
  {
   "cell_type": "markdown",
   "metadata": {},
   "source": [
    "### Exercise"
   ]
  },
  {
   "cell_type": "markdown",
   "metadata": {},
   "source": [
    "In the next cell, calculate the list of areas: **2*(length + width)** from the following lists:\n",
    "<br>\n",
    "*width* = [8, 9, 5, 2, 6]\n",
    "<br>\n",
    "*length* = [10, 9, 7, 4, 12]"
   ]
  },
  {
   "cell_type": "code",
   "execution_count": null,
   "metadata": {
    "collapsed": true
   },
   "outputs": [],
   "source": []
  },
  {
   "cell_type": "markdown",
   "metadata": {},
   "source": [
    "Given 2 sides of a triangle, use the Pythagorean Theorem to find the other side.  That is, given:\n",
    "<br>\n",
    "a = [4, 3, 7, 2]\n",
    "<br>\n",
    "b = [8, 6, 10, 7]\n",
    "<br>\n",
    "Find the list of sides, *c*.\n",
    "<br><br>\n",
    "**HINT:** You will need to `import numpy as np` and then use the Numpy builtin function **np.sqrt( )**."
   ]
  },
  {
   "cell_type": "code",
   "execution_count": null,
   "metadata": {
    "collapsed": true
   },
   "outputs": [],
   "source": []
  },
  {
   "cell_type": "markdown",
   "metadata": {},
   "source": [
    "You will see in later lessons how we can use list comprehensions when plotting data."
   ]
  }
 ],
 "metadata": {
  "kernelspec": {
   "display_name": "Python 2",
   "language": "python",
   "name": "python2"
  },
  "language_info": {
   "codemirror_mode": {
    "name": "ipython",
    "version": 2
   },
   "file_extension": ".py",
   "mimetype": "text/x-python",
   "name": "python",
   "nbconvert_exporter": "python",
   "pygments_lexer": "ipython2",
   "version": "2.7.13"
  }
 },
 "nbformat": 4,
 "nbformat_minor": 2
}
