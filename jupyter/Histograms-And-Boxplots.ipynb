{
 "cells": [
  {
   "cell_type": "markdown",
   "metadata": {},
   "source": [
    "# Matplotlib Histograms"
   ]
  },
  {
   "cell_type": "markdown",
   "metadata": {},
   "source": [
    "A histogram tells us how many values in a dataset fall between different sets of numbers.  It is used only for continuous data.  Continuous data can take on any value within a range.  For example:\n",
    "<br>\n",
    "- A person's height is continuous\n",
    "- A cat's weight is continuous\n",
    "<br><br>\n",
    "For a more detailed explanation of continuous data go [here](https://www.k5learning.com/blog/what-difference-between-discrete-and-continuous-data)."
   ]
  },
  {
   "cell_type": "markdown",
   "metadata": {},
   "source": [
    "Let's create a simple histogram representing the wait times in minutes of 24 customers at the DMV using:\n",
    "<br>\n",
    "*wait_times* = [48.2, 47.3, 38.1, 39.0, 43.1, 42.2, 36.6, 45.5, 41.6, 36.3, 36.5, 34.4, 45.3, 35.6, 43.5, 45.1, 40.3, 51.1, 50.2, 45.6, 47.3, 36.5, 34.2, 43.1]"
   ]
  },
  {
   "cell_type": "code",
   "execution_count": 23,
   "metadata": {
    "collapsed": false
   },
   "outputs": [
    {
     "data": {
      "image/png": "[encoded data removed]",
      "text/plain": [
       "<matplotlib.figure.Figure at 0x11b9c4240>"
      ]
     },
     "metadata": {},
     "output_type": "display_data"
    }
   ],
   "source": [
    "import matplotlib.pyplot as plt\n",
    "wait_times = [48.2, 47.3, 38.1, 39.0, 43.1, 42.2, 36.6, 45.5, 41.6, 36.3, 36.5, 34.4, 45.3, 35.6, 43.5, 45.1, 40.3, 51.1, 50.2, 45.6, 47.3, 36.5, 34.2, 43.1]\n",
    "plt.hist(wait_times)\n",
    "plt.show()"
   ]
  },
  {
   "cell_type": "markdown",
   "metadata": {},
   "source": [
    "The syntax is straight forward.  Though it is worth noting here that the default number of bins is 10.  **Bins** are the number of intervals your data range is divided into.  So if you don't think the default number is appropriate for your chart, you can change it by simply passing into the **plt.hist( )** function the *bins* = argument.  Let's re-plot the chart with fewer bins."
   ]
  },
  {
   "cell_type": "code",
   "execution_count": 24,
   "metadata": {
    "collapsed": false
   },
   "outputs": [
    {
     "data": {
      "image/png": "[encoded data removed]",
      "text/plain": [
       "<matplotlib.figure.Figure at 0x11b95beb8>"
      ]
     },
     "metadata": {},
     "output_type": "display_data"
    }
   ],
   "source": [
    "plt.hist(wait_times, bins=5)\n",
    "plt.show()"
   ]
  },
  {
   "cell_type": "markdown",
   "metadata": {},
   "source": [
    "We can add features for a title, *x* and *y*-axis labels and a legend."
   ]
  },
  {
   "cell_type": "code",
   "execution_count": 25,
   "metadata": {
    "collapsed": false
   },
   "outputs": [
    {
     "data": {
      "image/png": "[encoded data removed]",
      "text/plain": [
       "<matplotlib.figure.Figure at 0x11ba38860>"
      ]
     },
     "metadata": {},
     "output_type": "display_data"
    }
   ],
   "source": [
    "plt.hist(wait_times, bins=5)\n",
    "plt.title(\"Wait Times of 24 Customers at the DMV\")\n",
    "plt.xlabel(\"Wait Times in Minutes\")\n",
    "plt.ylabel(\"Number of Customers\")\n",
    "plt.show()"
   ]
  },
  {
   "cell_type": "markdown",
   "metadata": {},
   "source": [
    "### Exercise"
   ]
  },
  {
   "cell_type": "markdown",
   "metadata": {},
   "source": [
    "In the next cell, there is code that generates a random list of 50 numbers representing the heights of high school students on the basketball team:"
   ]
  },
  {
   "cell_type": "code",
   "execution_count": 30,
   "metadata": {
    "collapsed": false
   },
   "outputs": [
    {
     "name": "stdout",
     "output_type": "stream",
     "text": [
      "[ 62.91400156  62.77964545  64.25072626  63.24731106  62.22553133\n",
      "  63.48506414  64.11804085  66.59650608  64.07675319  64.46164875\n",
      "  63.25694726  66.78727856  64.96536344  66.09060845  65.99689281\n",
      "  61.99364719  64.25830955  61.56865052  62.58080723  64.13715831\n",
      "  61.30880399  63.01949934  66.15278562  63.5466826   66.7559781\n",
      "  65.77914034  63.89865268  65.31743164  61.05896216  61.55293458\n",
      "  61.94186632  64.77266051  64.67046851  63.35118068  64.814893\n",
      "  65.48862218  62.25613167  64.08880993  67.14336868  68.81435501\n",
      "  62.19829642  65.77339896  65.48096145  65.31089777  60.93062314\n",
      "  61.65462582  60.18580252  62.89690654  65.16818129  66.26422488]\n"
     ]
    }
   ],
   "source": [
    "import numpy as np\n",
    "heights = np.random.normal(loc=64, scale=2, size=50)\n",
    "print(heights)"
   ]
  },
  {
   "cell_type": "markdown",
   "metadata": {},
   "source": [
    "In the next cell, create a histogram of the *heights* data. Do not change the default number of bins.  Be sure to add features for a title, *x* and *y*-axis labels and a legend."
   ]
  },
  {
   "cell_type": "code",
   "execution_count": null,
   "metadata": {
    "collapsed": true
   },
   "outputs": [],
   "source": []
  },
  {
   "cell_type": "markdown",
   "metadata": {},
   "source": [
    "# Matplotlib Boxplots"
   ]
  },
  {
   "cell_type": "markdown",
   "metadata": {},
   "source": [
    "Boxplots show the distributional characteristics of a data set.  In particular, boxplots show statistical properties such as MEAN, PERCENTILES (25th and 75th, in particular), and the MIN and MAX values.  We discussed these statistical properties in a lesson from the Data Science workshop.  You may want to go back and review it if you don't understand what these values are."
   ]
  },
  {
   "cell_type": "markdown",
   "metadata": {},
   "source": [
    "Let's create a simple boxplot using the *wait_times* data above."
   ]
  },
  {
   "cell_type": "code",
   "execution_count": 32,
   "metadata": {
    "collapsed": false
   },
   "outputs": [
    {
     "data": {
      "image/png": "[encoded data removed]",
      "text/plain": [
       "<matplotlib.figure.Figure at 0x11b8e1128>"
      ]
     },
     "metadata": {},
     "output_type": "display_data"
    }
   ],
   "source": [
    "plt.boxplot(wait_times)\n",
    "plt.show()"
   ]
  },
  {
   "cell_type": "markdown",
   "metadata": {},
   "source": [
    "Actually the syntax is pretty simple. We just call the **plt.boxplot( )** function. Here is how you read a boxplot:\n",
    "<br>\n",
    "![title](img/boxplot.png)"
   ]
  },
  {
   "cell_type": "markdown",
   "metadata": {},
   "source": [
    "### Exercise"
   ]
  },
  {
   "cell_type": "markdown",
   "metadata": {},
   "source": [
    "Create a simple boxplot of the `heights` data.  Be sure to include a plot title."
   ]
  },
  {
   "cell_type": "code",
   "execution_count": null,
   "metadata": {
    "collapsed": true
   },
   "outputs": [],
   "source": []
  },
  {
   "cell_type": "markdown",
   "metadata": {},
   "source": [
    "What are the statistical properties of the data according to your boxplot?"
   ]
  },
  {
   "cell_type": "code",
   "execution_count": null,
   "metadata": {
    "collapsed": true
   },
   "outputs": [],
   "source": []
  },
  {
   "cell_type": "markdown",
   "metadata": {},
   "source": [
    "Next, you will explore Matplotlib histograms and boxplots in greater detail using a real world simulated project."
   ]
  }
 ],
 "metadata": {
  "kernelspec": {
   "display_name": "Python 2",
   "language": "python",
   "name": "python2"
  },
  "language_info": {
   "codemirror_mode": {
    "name": "ipython",
    "version": 2
   },
   "file_extension": ".py",
   "mimetype": "text/x-python",
   "name": "python",
   "nbconvert_exporter": "python",
   "pygments_lexer": "ipython2",
   "version": "2.7.13"
  }
 },
 "nbformat": 4,
 "nbformat_minor": 2
}
