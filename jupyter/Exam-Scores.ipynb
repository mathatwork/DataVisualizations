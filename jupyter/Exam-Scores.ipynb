{
 "cells": [
  {
   "cell_type": "markdown",
   "metadata": {},
   "source": [
    "# Matplotlib Histograms and Boxplots: Exam Scores"
   ]
  },
  {
   "cell_type": "markdown",
   "metadata": {},
   "source": [
    "You are a data analyst for a testing company.  You need to deliver to a school a report for exam results of a recently proctored standardized test.  You record all student exam results in the following list:\n",
    "<br><br>\n",
    "*results* = [77.32, 72.24, 79.38, 81.45, 94.31, 78.32, 81.52, 77.5, 83.84, 76.18, 78.29, 75.39, 79.25, 82.06, 75.24, 94.35, 82.19, 87.64, 83.11, 96.2, 85.67, 86.36, 84.57, 88.17, 91.24, 71.26, 96.14, 72.41, 80.94, 75.64, 89.1, 95.62, 80.03, 74.26, 76.77, 72.38, 96.2, 62.62, 70.08, 72.7]"
   ]
  },
  {
   "cell_type": "markdown",
   "metadata": {},
   "source": [
    "**Question 1)** Create a histogram with the default bin numbers to show how the exam results are distributed for the school.  Be sure to include a title, *x* and *y*-axis labels and a legend."
   ]
  },
  {
   "cell_type": "code",
   "execution_count": null,
   "metadata": {
    "collapsed": true
   },
   "outputs": [],
   "source": []
  },
  {
   "cell_type": "markdown",
   "metadata": {},
   "source": [
    "**Question 2)** Approximate the range in which the MOST students scored and the LEAST students scored."
   ]
  },
  {
   "cell_type": "code",
   "execution_count": null,
   "metadata": {
    "collapsed": true
   },
   "outputs": [],
   "source": []
  },
  {
   "cell_type": "markdown",
   "metadata": {},
   "source": [
    "**Question 3)** Create a boxplot of the *results* data."
   ]
  },
  {
   "cell_type": "code",
   "execution_count": null,
   "metadata": {
    "collapsed": true
   },
   "outputs": [],
   "source": []
  },
  {
   "cell_type": "markdown",
   "metadata": {},
   "source": [
    "**Question 4)** Using the boxplot, approximate the MEDIAN, 25th and 75th PERCENTILES, the MIN and MAX values of this *results* data."
   ]
  },
  {
   "cell_type": "code",
   "execution_count": null,
   "metadata": {
    "collapsed": true
   },
   "outputs": [],
   "source": []
  },
  {
   "cell_type": "markdown",
   "metadata": {},
   "source": [
    "**Question 5)** Calculate the statistical properties in the previous question using Numpy.  Were your results from Question 4 similar?"
   ]
  },
  {
   "cell_type": "code",
   "execution_count": null,
   "metadata": {
    "collapsed": true
   },
   "outputs": [],
   "source": []
  },
  {
   "cell_type": "markdown",
   "metadata": {},
   "source": [
    "**Question 6)** Provide a short description to the school of what these statistics mean for their school's exam results."
   ]
  },
  {
   "cell_type": "code",
   "execution_count": null,
   "metadata": {
    "collapsed": true
   },
   "outputs": [],
   "source": []
  },
  {
   "cell_type": "markdown",
   "metadata": {},
   "source": [
    "Very cool.  You were able to create great visuals representing exam results of the standardized test.  The histogram allowed you to see the frequency of students scoring within predefined ranges.  Therefore, you could easily find the ranges where the most and least students scored.  The boxplot displayed the distributional characteristics of the exam result data.  You were able to use it to approximate the data’s statistical properties visually.  Results from these charts allowed you to see how well students at the school performed on the exam.\n",
    "<br><br>\n",
    "You now have a good foundation in using Python for data visualizations and are ready to end this workshop with a project that demonstrates the use of data visualizations in the real world."
   ]
  }
 ],
 "metadata": {
  "kernelspec": {
   "display_name": "Python 3",
   "language": "python",
   "name": "python3"
  },
  "language_info": {
   "codemirror_mode": {
    "name": "ipython",
    "version": 3
   },
   "file_extension": ".py",
   "mimetype": "text/x-python",
   "name": "python",
   "nbconvert_exporter": "python",
   "pygments_lexer": "ipython3",
   "version": "3.6.1"
  }
 },
 "nbformat": 4,
 "nbformat_minor": 2
}
