{
 "cells": [
  {
   "cell_type": "markdown",
   "metadata": {},
   "source": [
    "# Matplotlib Histograms and Boxplots: Exam Scores"
   ]
  },
  {
   "cell_type": "markdown",
   "metadata": {},
   "source": [
    "You are a data analyst for a testing company.  You need to deliver to a school a report for exam results of a recently proctored standardized test.  You record all student exam results in the following list:\n",
    "<br><br>\n",
    "*results* = [72.38, 71.28, 79.24, 83.86, 84.42, 79.38, 75.51, 76.63, 81.48, 78.81, 79.23, 74.38, 79.27, 81.07, 75.42, 90.35, 82.93, 86.74, 81.33, 95.1, 86.57, 83.66, 85.58, 81.87, 92.14, 72.15, 91.64, 74.21, 89.04, 76.54, 81.9, 96.5, 80.05, 74.77, 72.26, 73.23, 92.6, 66.22, 70.09, 77.2]"
   ]
  },
  {
   "cell_type": "markdown",
   "metadata": {},
   "source": [
    "**Question 1)** Create a histogram with the default bin numbers to show how the exam results are distributed for the school.  Be sure to include a title, *x* and *y*-axis labels and a legend."
   ]
  },
  {
   "cell_type": "code",
   "execution_count": null,
   "metadata": {
    "collapsed": true
   },
   "outputs": [],
   "source": []
  },
  {
   "cell_type": "markdown",
   "metadata": {},
   "source": [
    "**Question 2)** Approximate the range in which the MOST students scored and the LEAST students scored."
   ]
  },
  {
   "cell_type": "code",
   "execution_count": null,
   "metadata": {
    "collapsed": true
   },
   "outputs": [],
   "source": []
  },
  {
   "cell_type": "markdown",
   "metadata": {},
   "source": [
    "**Question 3)** Create a boxplot of the *results* data."
   ]
  },
  {
   "cell_type": "code",
   "execution_count": null,
   "metadata": {
    "collapsed": true
   },
   "outputs": [],
   "source": []
  },
  {
   "cell_type": "markdown",
   "metadata": {},
   "source": [
    "**Question 4)** Using the boxplot, approximate the MEAN, 25th and 75th PERCENTILES, the MIN and MAX values of this *results* data."
   ]
  },
  {
   "cell_type": "code",
   "execution_count": null,
   "metadata": {
    "collapsed": true
   },
   "outputs": [],
   "source": []
  },
  {
   "cell_type": "markdown",
   "metadata": {},
   "source": [
    "**Question 5)** Calculate the statistical properties in the previous question using Numpy.  Were your results from Question 4 similar?"
   ]
  },
  {
   "cell_type": "code",
   "execution_count": null,
   "metadata": {
    "collapsed": true
   },
   "outputs": [],
   "source": []
  },
  {
   "cell_type": "markdown",
   "metadata": {},
   "source": [
    "**Question 6)** Provide a short description to the school of what these statistics mean for their school's exam results."
   ]
  },
  {
   "cell_type": "code",
   "execution_count": null,
   "metadata": {
    "collapsed": true
   },
   "outputs": [],
   "source": []
  },
  {
   "cell_type": "markdown",
   "metadata": {},
   "source": [
    "Very cool.  You were able to create great visuals representing exam results of the standardized test.  The histogram allowed you to see the frequency of students scoring within predefined ranges.  Therefore, you could easily find the ranges where the most and least students scored.  The boxplot displayed the distributional characteristics of the exam result data.  You were able to use it to approximate the data’s statistical properties visually.  Results from these charts allowed you to see how well students at the school performed on the exam.\n",
    "<br><br>\n",
    "You now have a good foundation in using Python for data visualizations and are ready to end this workshop with a project that demonstrates the use of data visualizations in the real world."
   ]
  }
 ],
 "metadata": {
  "kernelspec": {
   "display_name": "Python 2",
   "language": "python",
   "name": "python2"
  },
  "language_info": {
   "codemirror_mode": {
    "name": "ipython",
    "version": 2
   },
   "file_extension": ".py",
   "mimetype": "text/x-python",
   "name": "python",
   "nbconvert_exporter": "python",
   "pygments_lexer": "ipython2",
   "version": "2.7.13"
  }
 },
 "nbformat": 4,
 "nbformat_minor": 2
}
