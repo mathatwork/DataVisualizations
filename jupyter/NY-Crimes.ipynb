{
 "cells": [
  {
   "cell_type": "markdown",
   "metadata": {},
   "source": [
    "# Data Visualization in the Real World:  NY City Crimes"
   ]
  },
  {
   "cell_type": "markdown",
   "metadata": {},
   "source": [
    "You are an analyst for the NY City police department who is interested in understanding crime in your city.  Since 2010 you have been collecting data on all crimes reported to the department.  In a CSV file, you record the complaint NUMBER, the CATEGORY of the crime, the YEAR and the MONTH the crime was committed.  You have stored this CSV file on the Math@Work server."
   ]
  },
  {
   "cell_type": "markdown",
   "metadata": {},
   "source": [
    "**1]** Run the following code to import your dataset into its own Pandas DataFrame named `crimes`.  Then in the cell below it, print the first 10 rows of your newly created DataFrame to the screen.  Recall, we discussed importing data into a DataFrame in the Data Science workshop."
   ]
  },
  {
   "cell_type": "code",
   "execution_count": 1,
   "metadata": {
    "collapsed": true
   },
   "outputs": [],
   "source": [
    "import pandas as pd\n",
    "crimes = pd.read_csv('https://mathatwork.org/DATA/crime-data.csv')"
   ]
  },
  {
   "cell_type": "code",
   "execution_count": null,
   "metadata": {
    "collapsed": true
   },
   "outputs": [],
   "source": []
  },
  {
   "cell_type": "markdown",
   "metadata": {},
   "source": [
    "**2]** Aggregate the TOTAL number of crimes by YEAR.  Name this Pandas series, *crimes_year*.\n",
    "<br><br>\n",
    "**HINT:** To get the total number, you can do a **count( )** on the complaint NUMBER column."
   ]
  },
  {
   "cell_type": "code",
   "execution_count": null,
   "metadata": {
    "collapsed": true
   },
   "outputs": [],
   "source": []
  },
  {
   "cell_type": "markdown",
   "metadata": {},
   "source": [
    "**3]** Recall that once an aggregate is applied, the result is a Pandas series.  To create a line chart for the *crimes_year* data representing TOTAL NUMBER OF CRIMES OVER EACH YEAR you will need to note the following:\n",
    "<br>\n",
    "- The index column of this series will be our x-axis values\n",
    "- The Pandas series itself will be our y-axis values\n",
    "<br><br>\n",
    "To create our arrays for the x and y-axis values of the line chart, run the following code:"
   ]
  },
  {
   "cell_type": "code",
   "execution_count": 19,
   "metadata": {
    "collapsed": true
   },
   "outputs": [],
   "source": [
    "x = crimes_year.index\n",
    "y = crimes_year"
   ]
  },
  {
   "cell_type": "markdown",
   "metadata": {},
   "source": [
    "**4]** Plot a line chart representing total number of crimes over each year using *x* and *y* defined above. Be sure to give your line chart a title, x and y-axis labels and a legend."
   ]
  },
  {
   "cell_type": "code",
   "execution_count": null,
   "metadata": {
    "collapsed": true
   },
   "outputs": [],
   "source": []
  },
  {
   "cell_type": "markdown",
   "metadata": {},
   "source": [
    "**5]** Based on your line chart, what is the overall trend (increasing or decreasing) of the number of crimes reported in NY City from 2010 to 2017?  Understanding this might give an indication, for example, of whether new policing methods are working."
   ]
  },
  {
   "cell_type": "code",
   "execution_count": null,
   "metadata": {
    "collapsed": true
   },
   "outputs": [],
   "source": []
  },
  {
   "cell_type": "markdown",
   "metadata": {},
   "source": [
    "**6]** Aggregate the TOTAL number of crimes by MONTH. Name this Pandas series, *crimes_month*. "
   ]
  },
  {
   "cell_type": "code",
   "execution_count": null,
   "metadata": {
    "collapsed": true
   },
   "outputs": [],
   "source": []
  },
  {
   "cell_type": "markdown",
   "metadata": {},
   "source": [
    "**7]** Run the following code to create the arrays needed for a bar chart representing TOTAL NUMBER OF CRIMES BY MONTH:"
   ]
  },
  {
   "cell_type": "code",
   "execution_count": 34,
   "metadata": {
    "collapsed": true
   },
   "outputs": [],
   "source": [
    "months = ['Jan', 'Feb', 'Mar', 'Apr', 'May', 'Jun', 'Jul', 'Aug', 'Sep', 'Oct', 'Nov', 'Dec']\n",
    "number = crimes_month"
   ]
  },
  {
   "cell_type": "markdown",
   "metadata": {},
   "source": [
    "**8]** Plot a bar chart representing the total number of crimes by month using *months* and *number* defined above.  Be sure to show the month name on the x-axis.  Also give your chart a title, x and y-axis labels and a legend."
   ]
  },
  {
   "cell_type": "code",
   "execution_count": null,
   "metadata": {
    "collapsed": true
   },
   "outputs": [],
   "source": []
  },
  {
   "cell_type": "markdown",
   "metadata": {},
   "source": [
    "**9]** Based on your bar chart, which month had the fewest total number of crimes reported from 2010 to 2017?  Understanding this might give an indication, for example, of what months to increase/decrease police presence in the city."
   ]
  },
  {
   "cell_type": "code",
   "execution_count": null,
   "metadata": {
    "collapsed": true
   },
   "outputs": [],
   "source": []
  },
  {
   "cell_type": "markdown",
   "metadata": {},
   "source": [
    "**10]** Aggregate the TOTAL number of crimes by CATEGORY. Name this Pandas series, *crimes_category*."
   ]
  },
  {
   "cell_type": "code",
   "execution_count": null,
   "metadata": {
    "collapsed": true
   },
   "outputs": [],
   "source": []
  },
  {
   "cell_type": "markdown",
   "metadata": {},
   "source": [
    "**11]** Run the following code to create the arrays needed for a pie chart representing CRIME FREQUENCY FOR EACH CATEGORY:"
   ]
  },
  {
   "cell_type": "code",
   "execution_count": 38,
   "metadata": {
    "collapsed": true
   },
   "outputs": [],
   "source": [
    "categories = crimes_category.index\n",
    "number = crimes_category"
   ]
  },
  {
   "cell_type": "markdown",
   "metadata": {},
   "source": [
    "**12]** Plot a pie chart representing crime frequency for each category using *categories* and *number* defined above.  Create slice labels using *number*. Be sure to include a chart title and a legend using *categories*."
   ]
  },
  {
   "cell_type": "code",
   "execution_count": null,
   "metadata": {
    "collapsed": true
   },
   "outputs": [],
   "source": []
  },
  {
   "cell_type": "markdown",
   "metadata": {},
   "source": [
    "**13]** Based on your pie chart, which crime type was committed most frequently from 2010 to 2017?  Understanding this might give an indication, for example, of what policing efforts the department should focus on."
   ]
  },
  {
   "cell_type": "code",
   "execution_count": null,
   "metadata": {
    "collapsed": true
   },
   "outputs": [],
   "source": []
  },
  {
   "cell_type": "markdown",
   "metadata": {},
   "source": [
    "Awesome job.  You were able to perform very useful analyses and create great visuals representing crime in NY City.  The line chart representing total number of crimes reported by year helped you to determine whether there were any trends in the number of crimes reported.  Understanding these trends might give you insight on whether new policing methods are working.  An increasing trend, for example, might result in a recommendation of implementing different policing methods as the ones currently in place are not decreasing crime.\n",
    "<br><br>\n",
    "The bar chart representing the total number of crimes reported by month helped you find possible seasonal patterns.  Recognizing seasonal patterns could give you insight on what months to increase/decrease police presence in the city.  A finding of more crime, for example, in the summer months might result in a recommendation of more police officers patrolling the city during that time.  \n",
    "<br>\n",
    "The pie chart representing crime frequencies by crime category helped you find which type of crime was committed most frequently.  This information would be useful in deciding what policing efforts the department should focus on.  More felony type crimes could mean programs aimed at decreasing violent crime should be implemented by the department.\n",
    "<br><br>\n",
    "You are now ready to move on to Workshop 3, A/B Testing."
   ]
  }
 ],
 "metadata": {
  "kernelspec": {
   "display_name": "Python 2",
   "language": "python",
   "name": "python2"
  },
  "language_info": {
   "codemirror_mode": {
    "name": "ipython",
    "version": 2
   },
   "file_extension": ".py",
   "mimetype": "text/x-python",
   "name": "python",
   "nbconvert_exporter": "python",
   "pygments_lexer": "ipython2",
   "version": "2.7.13"
  }
 },
 "nbformat": 4,
 "nbformat_minor": 2
}
